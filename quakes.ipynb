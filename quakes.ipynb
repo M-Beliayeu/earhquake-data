{
 "cells": [
  {
   "cell_type": "code",
   "execution_count": 31,
   "id": "44c62dfe",
   "metadata": {},
   "outputs": [],
   "source": [
    "import numpy\n",
    "import pandas as pd\n",
    "import json\n",
    "import sqlalchemy as db\n",
    "from sqlalchemy import text\n",
    "import matplotlib.pyplot as plt\n",
    "import seaborn as sns\n",
    "\n",
    "#I do not guarantee that the following code is 100% sql injection proof"
   ]
  },
  {
   "cell_type": "markdown",
   "id": "1744777a",
   "metadata": {},
   "source": [
    "<h2>Connect to (MySQL) Server</h2>"
   ]
  },
  {
   "cell_type": "code",
   "execution_count": 3,
   "id": "0f9d0b7c",
   "metadata": {},
   "outputs": [],
   "source": [
    "username = \"root\"\n",
    "password = \"password\"\n",
    "server = \"localhost\"\n",
    "database = \"quakes\"\n",
    "\n",
    "engine = db.create_engine(f\"mysql+pymysql://{username}:{password}@{server}/{database}\")"
   ]
  },
  {
   "cell_type": "code",
   "execution_count": 9,
   "id": "f391c895",
   "metadata": {},
   "outputs": [
    {
     "name": "stderr",
     "output_type": "stream",
     "text": [
      "/var/folders/f2/jq5dp98n2pvcf43bjrz71s540000gn/T/ipykernel_4764/4162273999.py:1: SADeprecationWarning: The Engine.table_names() method is deprecated and will be removed in a future release.  Please refer to Inspector.get_table_names(). (deprecated since: 1.4)\n",
      "  engine.table_names()\n"
     ]
    },
    {
     "data": {
      "text/plain": [
       "['Agencies',\n",
       " 'Alerts',\n",
       " 'Contributed',\n",
       " 'Events',\n",
       " 'IdMap',\n",
       " 'MagnitudeTypes',\n",
       " 'Status']"
      ]
     },
     "execution_count": 9,
     "metadata": {},
     "output_type": "execute_result"
    }
   ],
   "source": [
    "engine.table_names()"
   ]
  },
  {
   "cell_type": "code",
   "execution_count": null,
   "id": "e86ec9ff",
   "metadata": {},
   "outputs": [],
   "source": []
  },
  {
   "cell_type": "markdown",
   "id": "0c7cceb3",
   "metadata": {},
   "source": [
    "<h2>Read data from files</h2>"
   ]
  },
  {
   "cell_type": "code",
   "execution_count": null,
   "id": "55f12e8b",
   "metadata": {},
   "outputs": [],
   "source": [
    "with engine.connect() as con:\n",
    "    engine.create"
   ]
  },
  {
   "cell_type": "code",
   "execution_count": null,
   "id": "28329cff",
   "metadata": {},
   "outputs": [],
   "source": [
    "def process_ids(id, ids, con):\n",
    "    ids = set(ids)\n",
    "    ids.add(id)\n",
    "    ids = list(ids)\n",
    "    \n",
    "    con.execute(text(\"DROP TALBE IF EXISTS temp_ids\"))\n",
    "    con.execute(text(\"CREATE TEMPORARY TABLE temp_ids (local_id INT NOT NULL, global_id INT)\"))\n",
    "    \n",
    "    con.execute(text(f\"INSERT INTO temp_ids \\\n",
    "                       SELECT local_id, global_id \\\n",
    "                       FROM IdMap \\\n",
    "                       WHERE local_id IN ({\",\".join(ids)})\"))\n",
    "    res = con.execute(text(\"SELECT DISTINCT local_id FROM temp_ids\"))\n",
    "    \n",
    "    not_found = ids.copy()\n",
    "    for row in res:\n",
    "        not_found.remove(row['local_id'])\n",
    "    \n",
    "    for not_found_id in not_found:\n",
    "        con.execute(text(f\"INSERT INTO temp_ids VALUE ({not_found_id},NULL)\"))\n",
    "    \n",
    "    res = con.execute(text(\"SELECT DISTINCT global_id FROM temp_ids\"))\n",
    "    gis = [r[0] for r in res]\n",
    "    \n",
    "    global_id = -1\n",
    "    if len(gis) > 1:\n",
    "        raise Exception('data is inconsistent')\n",
    "    \n",
    "    global_id = gis[0] if len(gis) == 1 else \n",
    "        con.execute(text('SELECT coalesce(MAX(global_index), 0) FROM IdMap')).scalar() + 1\n",
    "\n",
    "    con.execute(text(f'INSERT INTO idMap(local_id, global_id) SELECT t.local_id, {global_id} FROM temp_ids t WHERE global_id is NULL'))\n",
    "    return con.execute(text(f'SELECT id FROM IdMap WHERE local_id = {id}')).scalar()\n",
    "\n",
    "def process_sources(sources, event_id, con):\n",
    "    sstr = \",\".join(sources)\n",
    "    \n",
    "    for source in sources:\n",
    "        if \n",
    "    \n",
    "    con.execute(text(f'INSERT INTO Contributed(Agency, Event) \\\n",
    "                       SELECT a.id, {event_id} \\\n",
    "                       FROM Agencies a \\\n",
    "                       WHERE a.name IN ({sstr})'))\n",
    "    \n"
   ]
  },
  {
   "cell_type": "code",
   "execution_count": null,
   "id": "a21998db",
   "metadata": {},
   "outputs": [],
   "source": []
  },
  {
   "cell_type": "code",
   "execution_count": 23,
   "id": "75d428f2",
   "metadata": {},
   "outputs": [],
   "source": [
    "def process_json_entry(entry, con):\n",
    "    if entry['properties']['type'] != 'earthquake':\n",
    "        return\n",
    "    \n",
    "    id = entry['id']\n",
    "    [long, lat, depth] = entry['geometry']['coordinates']\n",
    "    props = entry['properties']\n",
    "    \n",
    "    common_query = \"SELECT id FROM {0} WHERE name == {1}\"\n",
    "    alert_id = con.execute(text(common_query.format(\"Alerts\", props['alert'])))\n",
    "    status_id = con.execute(text(common_query.format(\"Status\", props['status'])))\n",
    "    net_id = con.execute(text(common_query.format(\"Agencies\", props['net'])))\n",
    "    mag_type_id = con.execute(text(common_query.format(\"MagnitudeTypes\", props['magType'])))\n",
    "    \n",
    "    local_ids = set(filter(None, item['properties']['ids'].split(',' )))\n",
    "    local_ids.add(id)\n",
    "    local_id = process_ids(id, local_ids)\n",
    "    \n",
    "    con.execute(text(f'INSERT INTO Events VALUE(\\\n",
    "                      magnitude, place, time,\\\n",
    "                      updated, timezone_offset, url,\\\n",
    "                      detail, felt, cdi,\\\n",
    "                      mmi, alert, status,\\\n",
    "                      tsunami, significance, network,\\\n",
    "                      n_stations, dmin, rms,\\\n",
    "                      gap, magnitude_type, title,\\\n",
    "                      longitude, latitude, depth,\\\n",
    "                      local_id, types, code\\\n",
    "                     )(\\\n",
    "                      {props['mag']}, {props['place']}, {props['time']//1000},\\\n",
    "                      {props['updated']//1000}, {props['tz']}, {props['url']},\\\n",
    "                      {props['detail']}, {props['felt']}, {props['cdi']},\\\n",
    "                      {props['mmi']}, {alert_id}, {status_id},\\\n",
    "                      {props['tsunami']}, {props['sig']}, {net_id},\\\n",
    "                      {props['nst']}, {props['dmin']}, {props['rms']},\\\n",
    "                      {props['gap']}, {mag_type_id}, {props['title']},\\\n",
    "                      {long}, {lat}, {depth},\\\n",
    "                      \n",
    "                        )'))\n",
    "    \n",
    "    \n",
    "    print(props.keys())"
   ]
  },
  {
   "cell_type": "code",
   "execution_count": 78,
   "id": "dc294b2c",
   "metadata": {},
   "outputs": [
    {
     "data": {
      "text/plain": [
       "',hv72961597,'"
      ]
     },
     "execution_count": 78,
     "metadata": {},
     "output_type": "execute_result"
    }
   ],
   "source": [
    "records[0]['properties']['ids']"
   ]
  },
  {
   "cell_type": "code",
   "execution_count": 24,
   "id": "d9a2e18a",
   "metadata": {},
   "outputs": [
    {
     "name": "stdout",
     "output_type": "stream",
     "text": [
      "dict_keys(['mag', 'place', 'time', 'updated', 'tz', 'url', 'detail', 'felt', 'cdi', 'mmi', 'alert', 'status', 'tsunami', 'sig', 'net', 'code', 'ids', 'sources', 'types', 'nst', 'dmin', 'rms', 'gap', 'magType', 'type', 'title'])\n"
     ]
    }
   ],
   "source": [
    "process_json_entry(records[0])"
   ]
  },
  {
   "cell_type": "code",
   "execution_count": 64,
   "id": "3375cec8",
   "metadata": {},
   "outputs": [
    {
     "data": {
      "text/plain": [
       "int"
      ]
     },
     "execution_count": 64,
     "metadata": {},
     "output_type": "execute_result"
    }
   ],
   "source": [
    "type(records[0]['properties']['time'])"
   ]
  },
  {
   "cell_type": "code",
   "execution_count": 62,
   "id": "784e9cdb",
   "metadata": {},
   "outputs": [
    {
     "data": {
      "text/plain": [
       "['quakes-00000-20000.json',\n",
       " 'quakes-20000-40000.json',\n",
       " 'quakes-40000-60000.json',\n",
       " 'quakes-60000-80000.json',\n",
       " 'quakes-80000-100000.json',\n",
       " 'quakes.ipynb']"
      ]
     },
     "execution_count": 62,
     "metadata": {},
     "output_type": "execute_result"
    }
   ],
   "source": [
    "all_files = !ls\n",
    "all_files = list(filter(lambda x: x.startswith(\"quakes\"), all_files))\n",
    "all_files"
   ]
  },
  {
   "cell_type": "code",
   "execution_count": 11,
   "id": "8493c5ac",
   "metadata": {},
   "outputs": [
    {
     "ename": "KeyError",
     "evalue": "'features'",
     "output_type": "error",
     "traceback": [
      "\u001b[0;31m---------------------------------------------------------------------------\u001b[0m",
      "\u001b[0;31mKeyError\u001b[0m                                  Traceback (most recent call last)",
      "\u001b[0;32m/var/folders/f2/jq5dp98n2pvcf43bjrz71s540000gn/T/ipykernel_4764/1022247153.py\u001b[0m in \u001b[0;36m<module>\u001b[0;34m\u001b[0m\n\u001b[1;32m      3\u001b[0m     \u001b[0;32mwith\u001b[0m \u001b[0mopen\u001b[0m\u001b[0;34m(\u001b[0m\u001b[0mfile\u001b[0m\u001b[0;34m)\u001b[0m \u001b[0;32mas\u001b[0m \u001b[0mf\u001b[0m\u001b[0;34m:\u001b[0m\u001b[0;34m\u001b[0m\u001b[0;34m\u001b[0m\u001b[0m\n\u001b[1;32m      4\u001b[0m         \u001b[0mdata\u001b[0m \u001b[0;34m=\u001b[0m \u001b[0mjson\u001b[0m\u001b[0;34m.\u001b[0m\u001b[0mload\u001b[0m\u001b[0;34m(\u001b[0m\u001b[0mf\u001b[0m\u001b[0;34m)\u001b[0m\u001b[0;34m\u001b[0m\u001b[0;34m\u001b[0m\u001b[0m\n\u001b[0;32m----> 5\u001b[0;31m         \u001b[0mrecords\u001b[0m\u001b[0;34m.\u001b[0m\u001b[0mextend\u001b[0m\u001b[0;34m(\u001b[0m\u001b[0mdata\u001b[0m\u001b[0;34m[\u001b[0m\u001b[0;34m'features'\u001b[0m\u001b[0;34m]\u001b[0m\u001b[0;34m)\u001b[0m\u001b[0;34m\u001b[0m\u001b[0;34m\u001b[0m\u001b[0m\n\u001b[0m\u001b[1;32m      6\u001b[0m \u001b[0mlen\u001b[0m\u001b[0;34m(\u001b[0m\u001b[0mrecords\u001b[0m\u001b[0;34m)\u001b[0m\u001b[0;34m\u001b[0m\u001b[0;34m\u001b[0m\u001b[0m\n",
      "\u001b[0;31mKeyError\u001b[0m: 'features'"
     ]
    }
   ],
   "source": [
    "records = []\n",
    "for file in all_files:\n",
    "    with open(file) as f:\n",
    "        data = json.load(f)\n",
    "        records.extend(data['features'])\n",
    "len(records)"
   ]
  },
  {
   "cell_type": "code",
   "execution_count": 182,
   "id": "da164043",
   "metadata": {},
   "outputs": [
    {
     "data": {
      "text/plain": [
       "dict_keys(['type', 'properties', 'geometry', 'id'])"
      ]
     },
     "execution_count": 182,
     "metadata": {},
     "output_type": "execute_result"
    }
   ],
   "source": [
    "records[0].keys()"
   ]
  },
  {
   "cell_type": "code",
   "execution_count": 184,
   "id": "a65d9d39",
   "metadata": {},
   "outputs": [
    {
     "data": {
      "text/plain": [
       "dict_keys(['mag', 'place', 'time', 'updated', 'tz', 'url', 'detail', 'felt', 'cdi', 'mmi', 'alert', 'status', 'tsunami', 'sig', 'net', 'code', 'ids', 'sources', 'types', 'nst', 'dmin', 'rms', 'gap', 'magType', 'type', 'title'])"
      ]
     },
     "execution_count": 184,
     "metadata": {},
     "output_type": "execute_result"
    }
   ],
   "source": [
    "records[0]['properties'].keys()"
   ]
  },
  {
   "cell_type": "code",
   "execution_count": 66,
   "id": "4e832706",
   "metadata": {},
   "outputs": [],
   "source": [
    "def construct_ids_dict(data):\n",
    "    local_id_to_global_id = {}\n",
    "    next_global_id = 0\n",
    "    \n",
    "    for item in data:\n",
    "        #local_ids = set of id + ids\n",
    "        local_ids = set(filter(None, item['properties']['ids'].split(',' )))\n",
    "        local_ids.add(item['id'])\n",
    "        \n",
    "        global_id = -1\n",
    "        \n",
    "        #global_id = -1 if none of local ids were assigned\n",
    "        #otherwise = local_id_to_global_id[local_id] for some assigned local id\n",
    "        for local_id in local_ids:\n",
    "            #local_id was already assigned then...\n",
    "            if local_id in local_id_to_global_id:\n",
    "                new_global_id  = local_id_to_global_id[local_id]\n",
    "                \n",
    "                #if global id was not assigned earlier then assign new_global_id to it\n",
    "                if global_id == -1:\n",
    "                    global_id = new_global_id\n",
    "                #raise consistency exception\n",
    "                elif global_id != new_global_id:\n",
    "                    raise Exception(\"Dataset is inconsistent\")\n",
    "        \n",
    "        #none local ids were assigned earlier\n",
    "        if global_id == -1:\n",
    "            global_id = next_global_id\n",
    "            next_global_id = next_global_id + 1\n",
    "        \n",
    "        for local_id in local_ids:\n",
    "            local_id_to_global_id[local_id] = global_id\n",
    "            \n",
    "    return local_id_to_global_id"
   ]
  },
  {
   "cell_type": "code",
   "execution_count": 67,
   "id": "fa97cd9b",
   "metadata": {},
   "outputs": [],
   "source": [
    "ids = construct_ids_dict(records)"
   ]
  },
  {
   "cell_type": "code",
   "execution_count": 68,
   "id": "db8b9903",
   "metadata": {},
   "outputs": [
    {
     "data": {
      "text/html": [
       "<div>\n",
       "<style scoped>\n",
       "    .dataframe tbody tr th:only-of-type {\n",
       "        vertical-align: middle;\n",
       "    }\n",
       "\n",
       "    .dataframe tbody tr th {\n",
       "        vertical-align: top;\n",
       "    }\n",
       "\n",
       "    .dataframe thead th {\n",
       "        text-align: right;\n",
       "    }\n",
       "</style>\n",
       "<table border=\"1\" class=\"dataframe\">\n",
       "  <thead>\n",
       "    <tr style=\"text-align: right;\">\n",
       "      <th></th>\n",
       "      <th>local</th>\n",
       "      <th>global</th>\n",
       "    </tr>\n",
       "  </thead>\n",
       "  <tbody>\n",
       "    <tr>\n",
       "      <th>0</th>\n",
       "      <td>hv72961597</td>\n",
       "      <td>0</td>\n",
       "    </tr>\n",
       "    <tr>\n",
       "      <th>1</th>\n",
       "      <td>hv72961587</td>\n",
       "      <td>1</td>\n",
       "    </tr>\n",
       "    <tr>\n",
       "      <th>2</th>\n",
       "      <td>hv72961577</td>\n",
       "      <td>2</td>\n",
       "    </tr>\n",
       "    <tr>\n",
       "      <th>3</th>\n",
       "      <td>us7000gx6m</td>\n",
       "      <td>3</td>\n",
       "    </tr>\n",
       "    <tr>\n",
       "      <th>4</th>\n",
       "      <td>usauto7000gx6g</td>\n",
       "      <td>4</td>\n",
       "    </tr>\n",
       "    <tr>\n",
       "      <th>5</th>\n",
       "      <td>us7000gx6g</td>\n",
       "      <td>4</td>\n",
       "    </tr>\n",
       "    <tr>\n",
       "      <th>6</th>\n",
       "      <td>us7000gx6b</td>\n",
       "      <td>5</td>\n",
       "    </tr>\n",
       "    <tr>\n",
       "      <th>7</th>\n",
       "      <td>us7000gx64</td>\n",
       "      <td>6</td>\n",
       "    </tr>\n",
       "    <tr>\n",
       "      <th>8</th>\n",
       "      <td>us7000gx62</td>\n",
       "      <td>7</td>\n",
       "    </tr>\n",
       "    <tr>\n",
       "      <th>9</th>\n",
       "      <td>us7000gx5v</td>\n",
       "      <td>8</td>\n",
       "    </tr>\n",
       "    <tr>\n",
       "      <th>10</th>\n",
       "      <td>pr71341938</td>\n",
       "      <td>9</td>\n",
       "    </tr>\n",
       "    <tr>\n",
       "      <th>11</th>\n",
       "      <td>hv72961452</td>\n",
       "      <td>10</td>\n",
       "    </tr>\n",
       "    <tr>\n",
       "      <th>12</th>\n",
       "      <td>us7000gx5k</td>\n",
       "      <td>10</td>\n",
       "    </tr>\n",
       "    <tr>\n",
       "      <th>13</th>\n",
       "      <td>us7000gx5e</td>\n",
       "      <td>11</td>\n",
       "    </tr>\n",
       "    <tr>\n",
       "      <th>14</th>\n",
       "      <td>us7000gx57</td>\n",
       "      <td>12</td>\n",
       "    </tr>\n",
       "    <tr>\n",
       "      <th>15</th>\n",
       "      <td>tx2022fvzq</td>\n",
       "      <td>12</td>\n",
       "    </tr>\n",
       "    <tr>\n",
       "      <th>16</th>\n",
       "      <td>us7000gx4s</td>\n",
       "      <td>13</td>\n",
       "    </tr>\n",
       "    <tr>\n",
       "      <th>17</th>\n",
       "      <td>us7000gx4l</td>\n",
       "      <td>14</td>\n",
       "    </tr>\n",
       "    <tr>\n",
       "      <th>18</th>\n",
       "      <td>us7000gx4k</td>\n",
       "      <td>15</td>\n",
       "    </tr>\n",
       "    <tr>\n",
       "      <th>19</th>\n",
       "      <td>tx2022fvwu</td>\n",
       "      <td>16</td>\n",
       "    </tr>\n",
       "  </tbody>\n",
       "</table>\n",
       "</div>"
      ],
      "text/plain": [
       "             local  global\n",
       "0       hv72961597       0\n",
       "1       hv72961587       1\n",
       "2       hv72961577       2\n",
       "3       us7000gx6m       3\n",
       "4   usauto7000gx6g       4\n",
       "5       us7000gx6g       4\n",
       "6       us7000gx6b       5\n",
       "7       us7000gx64       6\n",
       "8       us7000gx62       7\n",
       "9       us7000gx5v       8\n",
       "10      pr71341938       9\n",
       "11      hv72961452      10\n",
       "12      us7000gx5k      10\n",
       "13      us7000gx5e      11\n",
       "14      us7000gx57      12\n",
       "15      tx2022fvzq      12\n",
       "16      us7000gx4s      13\n",
       "17      us7000gx4l      14\n",
       "18      us7000gx4k      15\n",
       "19      tx2022fvwu      16"
      ]
     },
     "execution_count": 68,
     "metadata": {},
     "output_type": "execute_result"
    }
   ],
   "source": [
    "df = pd.DataFrame([[key, value] for key, value in ids.items()], columns=[\"local\", \"global\"])\n",
    "df.head(20)"
   ]
  },
  {
   "cell_type": "code",
   "execution_count": 69,
   "id": "4da30e93",
   "metadata": {},
   "outputs": [
    {
     "ename": "NameError",
     "evalue": "name 'primaries' is not defined",
     "output_type": "error",
     "traceback": [
      "\u001b[0;31m---------------------------------------------------------------------------\u001b[0m",
      "\u001b[0;31mNameError\u001b[0m                                 Traceback (most recent call last)",
      "\u001b[0;32m/var/folders/f2/jq5dp98n2pvcf43bjrz71s540000gn/T/ipykernel_4764/872244407.py\u001b[0m in \u001b[0;36m<module>\u001b[0;34m\u001b[0m\n\u001b[0;32m----> 1\u001b[0;31m \u001b[0mlen\u001b[0m\u001b[0;34m(\u001b[0m\u001b[0mprimaries\u001b[0m\u001b[0;34m)\u001b[0m\u001b[0;34m\u001b[0m\u001b[0;34m\u001b[0m\u001b[0m\n\u001b[0m",
      "\u001b[0;31mNameError\u001b[0m: name 'primaries' is not defined"
     ]
    }
   ],
   "source": [
    "len(primaries)"
   ]
  },
  {
   "cell_type": "code",
   "execution_count": 75,
   "id": "dced8331",
   "metadata": {},
   "outputs": [
    {
     "name": "stdout",
     "output_type": "stream",
     "text": [
      "['us60008bll']\n"
     ]
    }
   ],
   "source": [
    "a = [record['id'] for (idx,record) in enumerate(records)]\n",
    "\n",
    "import collections\n",
    "print([item for item, count in collections.Counter(a).items() if count > 1])"
   ]
  },
  {
   "cell_type": "code",
   "execution_count": 76,
   "id": "1b148dc4",
   "metadata": {},
   "outputs": [
    {
     "name": "stdout",
     "output_type": "stream",
     "text": [
      "{'type': 'Feature', 'properties': {'mag': 4.2, 'place': '53 km WSW of Chonchi, Chile', 'time': 1583576935350, 'updated': 1590271400040, 'tz': None, 'url': 'https://earthquake.usgs.gov/earthquakes/eventpage/us60008bll', 'detail': 'https://earthquake.usgs.gov/fdsnws/event/1/query?eventid=us60008bll&format=geojson', 'felt': None, 'cdi': None, 'mmi': None, 'alert': None, 'status': 'reviewed', 'tsunami': 0, 'sig': 271, 'net': 'us', 'code': '60008bll', 'ids': ',us60008bll,', 'sources': ',us,', 'types': ',moment-tensor,origin,phase-data,', 'nst': None, 'dmin': 0.578, 'rms': 0.71, 'gap': 155, 'magType': 'mwr', 'type': 'earthquake', 'title': 'M 4.2 - 53 km WSW of Chonchi, Chile'}, 'geometry': {'type': 'Point', 'coordinates': [-74.3616, -42.845, 23.96]}, 'id': 'us60008bll'}\n",
      "{'type': 'Feature', 'properties': {'mag': 4.2, 'place': '53 km WSW of Chonchi, Chile', 'time': 1583576935350, 'updated': 1590271400040, 'tz': None, 'url': 'https://earthquake.usgs.gov/earthquakes/eventpage/us60008bll', 'detail': 'https://earthquake.usgs.gov/fdsnws/event/1/query?eventid=us60008bll&format=geojson', 'felt': None, 'cdi': None, 'mmi': None, 'alert': None, 'status': 'reviewed', 'tsunami': 0, 'sig': 271, 'net': 'us', 'code': '60008bll', 'ids': ',us60008bll,', 'sources': ',us,', 'types': ',moment-tensor,origin,phase-data,', 'nst': None, 'dmin': 0.578, 'rms': 0.71, 'gap': 155, 'magType': 'mwr', 'type': 'earthquake', 'title': 'M 4.2 - 53 km WSW of Chonchi, Chile'}, 'geometry': {'type': 'Point', 'coordinates': [-74.3616, -42.845, 23.96]}, 'id': 'us60008bll'}\n"
     ]
    }
   ],
   "source": [
    "for record in records:\n",
    "    if record['id'] == 'us60008bll':\n",
    "        print(record)"
   ]
  },
  {
   "cell_type": "code",
   "execution_count": 131,
   "id": "d6dec260",
   "metadata": {},
   "outputs": [],
   "source": [
    "primaries = set(record[\"id\"] for record in records)"
   ]
  },
  {
   "cell_type": "code",
   "execution_count": 137,
   "id": "7999b2ce",
   "metadata": {},
   "outputs": [
    {
     "data": {
      "text/plain": [
       "141652"
      ]
     },
     "execution_count": 137,
     "metadata": {},
     "output_type": "execute_result"
    }
   ],
   "source": [
    "len(set(df.local))"
   ]
  },
  {
   "cell_type": "code",
   "execution_count": 191,
   "id": "76377fcc",
   "metadata": {},
   "outputs": [],
   "source": [
    "df = df.set_index('local')"
   ]
  },
  {
   "cell_type": "code",
   "execution_count": 136,
   "id": "1adea102",
   "metadata": {},
   "outputs": [
    {
     "data": {
      "text/plain": [
       "41653"
      ]
     },
     "execution_count": 136,
     "metadata": {},
     "output_type": "execute_result"
    }
   ],
   "source": [
    "len([x for x in df.local if not x in primaries])"
   ]
  },
  {
   "cell_type": "code",
   "execution_count": 193,
   "id": "c50fcae0",
   "metadata": {},
   "outputs": [],
   "source": [
    "primaries = list(primaries)"
   ]
  },
  {
   "cell_type": "code",
   "execution_count": 49,
   "id": "7f24998e",
   "metadata": {},
   "outputs": [],
   "source": [
    "result = process_json(gj)"
   ]
  },
  {
   "cell_type": "code",
   "execution_count": 51,
   "id": "05525632",
   "metadata": {},
   "outputs": [],
   "source": [
    "item = result[0]"
   ]
  },
  {
   "cell_type": "code",
   "execution_count": 52,
   "id": "9b9035a6",
   "metadata": {},
   "outputs": [
    {
     "data": {
      "text/plain": [
       "dict_keys(['type', 'properties', 'geometry', 'id'])"
      ]
     },
     "execution_count": 52,
     "metadata": {},
     "output_type": "execute_result"
    }
   ],
   "source": [
    "item.keys()"
   ]
  },
  {
   "cell_type": "code",
   "execution_count": 54,
   "id": "deca8541",
   "metadata": {},
   "outputs": [
    {
     "data": {
      "text/plain": [
       "dict_keys(['mag', 'place', 'time', 'updated', 'tz', 'url', 'detail', 'felt', 'cdi', 'mmi', 'alert', 'status', 'tsunami', 'sig', 'net', 'code', 'ids', 'sources', 'types', 'nst', 'dmin', 'rms', 'gap', 'magType', 'type', 'title'])"
      ]
     },
     "execution_count": 54,
     "metadata": {},
     "output_type": "execute_result"
    }
   ],
   "source": [
    "item['properties'].keys()"
   ]
  },
  {
   "cell_type": "code",
   "execution_count": 58,
   "id": "83b2148e",
   "metadata": {},
   "outputs": [
    {
     "data": {
      "text/plain": [
       "['hv72961597']"
      ]
     },
     "execution_count": 58,
     "metadata": {},
     "output_type": "execute_result"
    }
   ],
   "source": [
    "list(filter(None, item['properties']['ids'].split(',' )))"
   ]
  },
  {
   "cell_type": "code",
   "execution_count": 201,
   "id": "11a7a374",
   "metadata": {},
   "outputs": [
    {
     "data": {
      "text/plain": [
       "99997"
      ]
     },
     "execution_count": 201,
     "metadata": {},
     "output_type": "execute_result"
    }
   ],
   "source": [
    "len(set([record['properties']['code'] for record in records]))"
   ]
  },
  {
   "cell_type": "code",
   "execution_count": 65,
   "id": "bb898f5e",
   "metadata": {},
   "outputs": [
    {
     "ename": "NameError",
     "evalue": "name 'primaries' is not defined",
     "output_type": "error",
     "traceback": [
      "\u001b[0;31m---------------------------------------------------------------------------\u001b[0m",
      "\u001b[0;31mNameError\u001b[0m                                 Traceback (most recent call last)",
      "\u001b[0;32m/var/folders/f2/jq5dp98n2pvcf43bjrz71s540000gn/T/ipykernel_4764/1167845332.py\u001b[0m in \u001b[0;36m<module>\u001b[0;34m\u001b[0m\n\u001b[0;32m----> 1\u001b[0;31m \u001b[0mprimaries\u001b[0m\u001b[0;34m\u001b[0m\u001b[0;34m\u001b[0m\u001b[0m\n\u001b[0m",
      "\u001b[0;31mNameError\u001b[0m: name 'primaries' is not defined"
     ]
    }
   ],
   "source": [
    "primaries"
   ]
  },
  {
   "cell_type": "code",
   "execution_count": null,
   "id": "4ede5301",
   "metadata": {},
   "outputs": [],
   "source": []
  }
 ],
 "metadata": {
  "kernelspec": {
   "display_name": "Python 3 (ipykernel)",
   "language": "python",
   "name": "python3"
  },
  "language_info": {
   "codemirror_mode": {
    "name": "ipython",
    "version": 3
   },
   "file_extension": ".py",
   "mimetype": "text/x-python",
   "name": "python",
   "nbconvert_exporter": "python",
   "pygments_lexer": "ipython3",
   "version": "3.9.5"
  }
 },
 "nbformat": 4,
 "nbformat_minor": 5
}
