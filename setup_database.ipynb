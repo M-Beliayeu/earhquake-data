{
 "cells": [
  {
   "cell_type": "code",
   "execution_count": 116,
   "id": "86d68262",
   "metadata": {},
   "outputs": [],
   "source": [
    "from bs4 import BeautifulSoup\n",
    "import pandas as pd\n",
    "import numpy as np\n",
    "import sqlalchemy as db\n",
    "import requests\n",
    "import re\n",
    "from sqlalchemy import text\n",
    "from sqlalchemy.orm import Session"
   ]
  },
  {
   "cell_type": "markdown",
   "id": "25ca24c6",
   "metadata": {},
   "source": [
    "<h4>Credentials:</h4>"
   ]
  },
  {
   "cell_type": "code",
   "execution_count": 117,
   "id": "5eae04bc",
   "metadata": {},
   "outputs": [],
   "source": [
    "protocol = \"mysql+pymysql\"\n",
    "username = \"root\"\n",
    "password = \"password\"\n",
    "server = \"localhost\"\n",
    "database = \"quakes\""
   ]
  },
  {
   "cell_type": "markdown",
   "id": "46c14722",
   "metadata": {},
   "source": [
    "<h4>Connect to server</h4>"
   ]
  },
  {
   "cell_type": "code",
   "execution_count": 118,
   "id": "c1e70cc3",
   "metadata": {},
   "outputs": [],
   "source": [
    "engine = db.create_engine(f\"{protocol}://{username}:{password}@{server}/{database}\")\n",
    "metadata = db.MetaData()"
   ]
  },
  {
   "cell_type": "markdown",
   "id": "771448e9",
   "metadata": {},
   "source": [
    "<h4>Create table variables</h4>"
   ]
  },
  {
   "cell_type": "code",
   "execution_count": 119,
   "id": "f2d85e77",
   "metadata": {},
   "outputs": [
    {
     "name": "stderr",
     "output_type": "stream",
     "text": [
      "/var/folders/f2/jq5dp98n2pvcf43bjrz71s540000gn/T/ipykernel_55026/4162273999.py:1: SADeprecationWarning: The Engine.table_names() method is deprecated and will be removed in a future release.  Please refer to Inspector.get_table_names(). (deprecated since: 1.4)\n",
      "  engine.table_names()\n"
     ]
    },
    {
     "data": {
      "text/plain": [
       "['Agencies',\n",
       " 'Alerts',\n",
       " 'Contributed',\n",
       " 'Events',\n",
       " 'IdMap',\n",
       " 'MagnitudeTypes',\n",
       " 'Status']"
      ]
     },
     "execution_count": 119,
     "metadata": {},
     "output_type": "execute_result"
    }
   ],
   "source": [
    "engine.table_names()"
   ]
  },
  {
   "cell_type": "code",
   "execution_count": 120,
   "id": "7e4c355a",
   "metadata": {},
   "outputs": [],
   "source": [
    "agencies_tbl = db.Table('Agencies', metadata, autoload_with=engine)\n",
    "status_tbl = db.Table('Status', metadata, autoload_with=engine)\n",
    "alerts_tbl = db.Table('Alerts', metadata, autoload_with=engine)\n",
    "mag_types_tbl = db.Table('MagnitudeTypes', metadata, autoload_with=engine)"
   ]
  },
  {
   "cell_type": "markdown",
   "id": "668865c4",
   "metadata": {},
   "source": [
    "<h2>Populate MagnitudeTypes table</h2>"
   ]
  },
  {
   "cell_type": "code",
   "execution_count": 121,
   "id": "b4b6e641",
   "metadata": {},
   "outputs": [
    {
     "data": {
      "text/plain": [
       "[                                      Magnitude Type  Magnitude Range  \\\n",
       " 0          Mww (Moment W-phase)(generic notation Mw)  ~5.0 and larger   \n",
       " 1                                     Mwc (centroid)  ~5.5 and larger   \n",
       " 2                                    Mwb (body wave)     ~5.5 to ~7.0   \n",
       " 3                                     Mwr (regional)     ~4.0 to ~6.5   \n",
       " 4                    Ms20 or Ms (20sec surface wave)     ~5.0 to ~8.5   \n",
       " 5                        mb (short-period body wave)     ~4.0 to ~6.5   \n",
       " 6                          Mfa (felt-area magnitude)              any   \n",
       " 7                               ML Ml, or ml (local)     ~2.0 to ~6.5   \n",
       " 8   mb_Lg, mb_lg, or MLg (short-period surface wave)     ~3.5 to ~7.0   \n",
       " 9                                Md or md (duration)    ~4 or smaller   \n",
       " 10                     Mi or Mwp (integrated p-wave)     ~5.0 to ~8.0   \n",
       " 11                                       Me (energy)  ~3.5 and larger   \n",
       " 12                                                Mh              any   \n",
       " 13                             Finite Fault Modeling  ~7.0 and larger   \n",
       " 14                        Mint (intensity magnitude)              any   \n",
       " \n",
       ".................................\n",
       " 14  A magnitude estimated from the maximum reporte...  ]"
      ]
     },
     "execution_count": 121,
     "metadata": {},
     "output_type": "execute_result"
    }
   ],
   "source": [
    "url = \"https://www.usgs.gov/programs/earthquake-hazards/magnitude-types\"\n",
    "dfs = pd.read_html(requests.get(url).content)\n",
    "dfs"
   ]
  },
  {
   "cell_type": "code",
   "execution_count": 122,
   "id": "24ffbfce",
   "metadata": {},
   "outputs": [
    {
     "data": {
      "text/plain": [
       "0            Mww (Moment W-phase)(generic notation Mw)\n",
       "1                                       Mwc (centroid)\n",
       "2                                      Mwb (body wave)\n",
       "3                                       Mwr (regional)\n",
       "4                      Ms20 or Ms (20sec surface wave)\n",
       "5                          mb (short-period body wave)\n",
       "6                            Mfa (felt-area magnitude)\n",
       "7                                 ML Ml, or ml (local)\n",
       "8     mb_Lg, mb_lg, or MLg (short-period surface wave)\n",
       "9                                  Md or md (duration)\n",
       "10                       Mi or Mwp (integrated p-wave)\n",
       "11                                         Me (energy)\n",
       "12                                                  Mh\n",
       "13                               Finite Fault Modeling\n",
       "14                          Mint (intensity magnitude)\n",
       "Name: Magnitude Type, dtype: object"
      ]
     },
     "execution_count": 122,
     "metadata": {},
     "output_type": "execute_result"
    }
   ],
   "source": [
    "mag_types = dfs[0].iloc[:, 0]\n",
    "mag_types"
   ]
  },
  {
   "cell_type": "code",
   "execution_count": 123,
   "id": "3f5e39fd",
   "metadata": {},
   "outputs": [],
   "source": [
    "#edge cases\n",
    "mag_types[0] = 'Mww Mw'\n",
    "mag_types[13] = 'FFM'\n",
    "#remove 'or'\n",
    "mag_types.replace('or', ' ', regex=True, inplace=True)\n",
    "#remove content inside parentheses\n",
    "mag_types.replace(r'\\(.*\\)|,', ' ', regex=True, inplace=True)\n",
    "mag_types = [set(map(lambda x: x.lower(), filter(None, mag_types_coll.split(' ')))) for mag_types_coll in mag_types]"
   ]
  },
  {
   "cell_type": "code",
   "execution_count": 124,
   "id": "77168b00",
   "metadata": {},
   "outputs": [],
   "source": [
    "#populate MagnitudeTypes\n",
    "with Session(engine) as session, session.begin():\n",
    "    session.execute(mag_types_tbl.insert(),\n",
    "        [{'id_type': index, 'name': mag_type} for index, mag_types_coll in enumerate(mag_types) \n",
    "                                              for mag_type in mag_types_coll])"
   ]
  },
  {
   "cell_type": "code",
   "execution_count": 125,
   "id": "42306090",
   "metadata": {},
   "outputs": [
    {
     "name": "stdout",
     "output_type": "stream",
     "text": [
      "id|id_type|name\n",
      "(1, 0, 'mww')\n",
      "(2, 0, 'mw')\n",
      "(3, 1, 'mwc')\n",
      "(4, 2, 'mwb')\n",
      "(5, 3, 'mwr')\n",
      "(6, 4, 'ms20')\n",
      "(7, 4, 'ms')\n",
      "(8, 5, 'mb')\n",
      "(9, 6, 'mfa')\n",
      "(10, 7, 'ml')\n",
      "(11, 8, 'mb_lg')\n",
      "(12, 8, 'mlg')\n",
      "(13, 9, 'md')\n",
      "(14, 10, 'mi')\n",
      "(15, 10, 'mwp')\n",
      "(16, 11, 'me')\n",
      "(17, 12, 'mh')\n",
      "(18, 13, 'ffm')\n",
      "(19, 14, 'mint')\n"
     ]
    }
   ],
   "source": [
    "#checking\n",
    "with Session(engine) as session, session.begin():\n",
    "    print(\"id|id_type|name\")\n",
    "    for row in session.execute(db.select(mag_types_tbl)):\n",
    "        print(row)"
   ]
  },
  {
   "cell_type": "markdown",
   "id": "6751795a",
   "metadata": {},
   "source": [
    "<h2>Populate Agencies table</h2>"
   ]
  },
  {
   "cell_type": "markdown",
   "id": "7f73a481",
   "metadata": {},
   "source": [
    "<h4>First source</h4>"
   ]
  },
  {
   "cell_type": "code",
   "execution_count": 126,
   "id": "5321fbe8",
   "metadata": {
    "scrolled": true
   },
   "outputs": [
    {
     "name": "stdout",
     "output_type": "stream",
     "text": [
      ".................................\n",
      "   <div class=\"page-content\">\n",
      "    <ul>\n",
      "     <li>\n",
      "      <a href=\"ak/\">\n",
      "       AK - Alaska Earthquake Center\n",
      "      </a>\n",
      "     </li>\n",
      "     <li>\n",
      "      <a href=\"at/\">\n",
      "       AT - National Tsunami Warning Center\n",
      "      </a>\n",
      "     </li>\n",
      "     <li>\n",
      "      <a href=\"atlas/\">\n",
      "       ATLAS - ShakeMap Atlas\n",
      "      </a>\n",
      "     </li>\n",
      "     <li>\n",
      "      <a href=\"av/\">\n",
      "       AV - Alaska Volcano Observatory\n",
      "      </a>\n",
      "     </li>\n",
      "     <li>\n",
      "      <a href=\"choy/\">\n",
      "       CHOY - Energy Magnitude and Broadband Depth\n",
      "      </a>\n",
      "     </li>\n",
      "     <li>\n",
      "      <a href=\"ci/\">\n",
      ".................................\n",
      "\n"
     ]
    }
   ],
   "source": [
    "url = \"https://earthquake.usgs.gov/data/comcat/catalog/\"\n",
    "soup = BeautifulSoup(requests.get(url).content, 'html.parser')\n",
    "print(soup.prettify())"
   ]
  },
  {
   "cell_type": "code",
   "execution_count": 127,
   "id": "b85384d6",
   "metadata": {},
   "outputs": [
    {
     "data": {
      "text/plain": [
       "<div class=\"page-content\">\n",
       "<ul><li><a href=\"ak/\">AK - Alaska Earthquake Center</a></li><li><a href=\"at/\">AT - National Tsunami Warning Center</a></li><li><a href=\"atlas/\">ATLAS - ShakeMap Atlas</a></li><li><a href=\"av/\">AV - Alaska Volcano Observatory</a></li><li><a href=\"choy/\">CHOY - Energy Magnitude and Broadband Depth</a></li><li><a href=\"ci/\">CI - California Integrated Seismic Network: Southern California Seismic Network (Caltech/USGS Pasadena and Partners) and Southern California Earthquake Data Center</a></li><li><a href=\"duputel/\">DUPUTEL - Duputel et al. W phase catalog</a></li><li><a href=\"eqh/\">EQH - EQH - Coffman, von Hake and Stover, Earthquake History of the United States</a></li><li><a href=\"gcmt/\">GCMT - Lamont-Doherty Earth Observatory Global CMT project, New York, USA</a></li><li><a href=\"hv/\">HV - Hawaii Volcano Observatory</a></li><li><a href=\"iscgem/\">ISCGEM - ISC-GEM Main Catalog</a></li><li><a href=\"iscgemsup/\">ISCGEMSUP - ISC-GEM Supplementary Catalog</a></li><li><a href=\"ismpkansas/\">ISMPKANSAS - USGS Induced Seismicity Project (Kansas)</a></li><li><a href=\"ld/\">LD - Lamont-Doherty Cooperative Seismographic Network</a></li><li><a href=\"mb/\">MB - Montana Bureau of Mines and Geology</a></li><li><a href=\"nc/\">NC - California Integrated Seismic Network: Northern California Seismic System (UC Berkeley, USGS Menlo Park, and Partners)</a></li><li><a href=\"ne/\">NE - New England Seismic Network</a></li><li><a href=\"nm/\">NM - New Madrid Seismic Network</a></li><li><a href=\"nn/\">NN - Nevada Seismological Laboratory</a></li><li><a href=\"official/\">OFFICIAL - USGS Earthquake Magnitude Working Group</a></li><li><a href=\"pags/\">PAGS - PAGS - Pennsylvania Geological Survey</a></li><li><a href=\"pr/\">PR - Puerto Rico Seismic Network</a></li><li><a href=\"pt/\">PT - Pacific Tsunami Warning Center</a></li><li><a href=\"rdemineral/\">RDEMINERAL - Refined Determination of Epicenters (Mineral, VA)</a></li><li><a href=\"se/\">SE - Center for Earthquake Research and Information</a></li><li><a href=\"us/\">US - USGS National Earthquake Information Center, PDE</a></li><li><a href=\"ushis/\">USHIS - USHIS - Stover and Coffman, Seismicity of the United States, 1568-1989</a></li><li><a href=\"uu/\">UU - University of Utah Seismograph Stations</a></li><li><a href=\"uw/\">UW - Pacific Northwest Seismic Network</a></li></ul> </div>"
      ]
     },
     "execution_count": 127,
     "metadata": {},
     "output_type": "execute_result"
    }
   ],
   "source": [
    "divs = soup.find_all(\"div\", {\"class\": \"page-content\"})\n",
    "divs[0]"
   ]
  },
  {
   "cell_type": "markdown",
   "id": "cf1c4e09",
   "metadata": {},
   "source": [
    "<h4>Second source</h4>"
   ]
  },
  {
   "cell_type": "code",
   "execution_count": 128,
   "id": "0db05fd3",
   "metadata": {},
   "outputs": [
    {
     "data": {
      "text/plain": [
       "[    0                                                  1  \\\n",
       " 0 NaN  set_server_date(2022,4,1,0,11,50)  Current tim...   \n",
       " \n",
       "                          2  \n",
       " 0  Member access  Name Pwd  ,\n",
       "                0              1\n",
       " 0  Member access  Member access\n",
       " 1            NaN            NaN\n",
       " 2           Name            NaN\n",
       " 3            NaN            NaN\n",
       " 4            Pwd            NaN\n",
       " 5            NaN            NaN\n",
       " 6            NaN            NaN,\n",
       "      Code                                          Institute  Country    City\n",
       " 0      AE  Arizona Broadband Seismic Network, Arizona Geo...      USA     NaN\n",
       " 1      AG  Arkansas Seismic Network, Arkansas Geological ...      USA     NaN\n",
       " 2      AK  Alaska Regional Network, University of Alaska-...      USA     NaN\n",
       " 3      AO  Arkansas Seismic Observatory, University of Ar...      USA     NaN\n",
       " 4      AR  Northern Arizona Network, Arizona Earthquake I...      USA     NaN\n",
       " ..    ...                                                ...      ...     ...\n",
       " 156   WAR                             Warsaw seismic network   Poland  Warsaw\n",
       " 157    WR  California Division of Water Resources, Califo...      USA     NaN\n",
       " 158    WY  Yellowstone Volcano Observatory Seismic Networ...      USA     NaN\n",
       " 159   ZAG         Seismological Survey, University of Zagreb  Croatia  Zagreb\n",
       " 160  ZAMG     ZentralAnstalt für Meteorologie und Geodynamik  Austria  Vienna\n",
       " \n",
       " [161 rows x 4 columns]]"
      ]
     },
     "execution_count": 128,
     "metadata": {},
     "output_type": "execute_result"
    }
   ],
   "source": [
    "url = 'https://www.emsc-csem.org/Earthquake/contributors.php'\n",
    "dfs = pd.read_html(requests.get(url).content)\n",
    "dfs"
   ]
  },
  {
   "cell_type": "code",
   "execution_count": 129,
   "id": "7aaed68d",
   "metadata": {},
   "outputs": [
    {
     "data": {
      "text/html": [
       "<div>\n",
       "<style scoped>\n",
       "    .dataframe tbody tr th:only-of-type {\n",
       "        vertical-align: middle;\n",
       "    }\n",
       "\n",
       "    .dataframe tbody tr th {\n",
       "        vertical-align: top;\n",
       "    }\n",
       "\n",
       "    .dataframe thead th {\n",
       "        text-align: right;\n",
       "    }\n",
       "</style>\n",
       "<table border=\"1\" class=\"dataframe\">\n",
       "  <thead>\n",
       "    <tr style=\"text-align: right;\">\n",
       "      <th></th>\n",
       "      <th>Code</th>\n",
       "      <th>Institute</th>\n",
       "    </tr>\n",
       "  </thead>\n",
       "  <tbody>\n",
       "    <tr>\n",
       "      <th>0</th>\n",
       "      <td>AE</td>\n",
       "      <td>Arizona Broadband Seismic Network, Arizona Geo...</td>\n",
       "    </tr>\n",
       "    <tr>\n",
       "      <th>1</th>\n",
       "      <td>AG</td>\n",
       "      <td>Arkansas Seismic Network, Arkansas Geological ...</td>\n",
       "    </tr>\n",
       "    <tr>\n",
       "      <th>2</th>\n",
       "      <td>AK</td>\n",
       "      <td>Alaska Regional Network, University of Alaska-...</td>\n",
       "    </tr>\n",
       "    <tr>\n",
       "      <th>3</th>\n",
       "      <td>AO</td>\n",
       "      <td>Arkansas Seismic Observatory, University of Ar...</td>\n",
       "    </tr>\n",
       "    <tr>\n",
       "      <th>4</th>\n",
       "      <td>AR</td>\n",
       "      <td>Northern Arizona Network, Arizona Earthquake I...</td>\n",
       "    </tr>\n",
       "    <tr>\n",
       "      <th>...</th>\n",
       "      <td>...</td>\n",
       "      <td>...</td>\n",
       "    </tr>\n",
       "    <tr>\n",
       "      <th>156</th>\n",
       "      <td>WAR</td>\n",
       "      <td>Warsaw seismic network</td>\n",
       "    </tr>\n",
       "    <tr>\n",
       "      <th>157</th>\n",
       "      <td>WR</td>\n",
       "      <td>California Division of Water Resources, Califo...</td>\n",
       "    </tr>\n",
       "    <tr>\n",
       "      <th>158</th>\n",
       "      <td>WY</td>\n",
       "      <td>Yellowstone Volcano Observatory Seismic Networ...</td>\n",
       "    </tr>\n",
       "    <tr>\n",
       "      <th>159</th>\n",
       "      <td>ZAG</td>\n",
       "      <td>Seismological Survey, University of Zagreb</td>\n",
       "    </tr>\n",
       "    <tr>\n",
       "      <th>160</th>\n",
       "      <td>ZAMG</td>\n",
       "      <td>ZentralAnstalt für Meteorologie und Geodynamik</td>\n",
       "    </tr>\n",
       "  </tbody>\n",
       "</table>\n",
       "<p>161 rows × 2 columns</p>\n",
       "</div>"
      ],
      "text/plain": [
       "     Code                                          Institute\n",
       "0      AE  Arizona Broadband Seismic Network, Arizona Geo...\n",
       "1      AG  Arkansas Seismic Network, Arkansas Geological ...\n",
       "2      AK  Alaska Regional Network, University of Alaska-...\n",
       "3      AO  Arkansas Seismic Observatory, University of Ar...\n",
       "4      AR  Northern Arizona Network, Arizona Earthquake I...\n",
       "..    ...                                                ...\n",
       "156   WAR                             Warsaw seismic network\n",
       "157    WR  California Division of Water Resources, Califo...\n",
       "158    WY  Yellowstone Volcano Observatory Seismic Networ...\n",
       "159   ZAG         Seismological Survey, University of Zagreb\n",
       "160  ZAMG     ZentralAnstalt für Meteorologie und Geodynamik\n",
       "\n",
       "[161 rows x 2 columns]"
      ]
     },
     "execution_count": 129,
     "metadata": {},
     "output_type": "execute_result"
    }
   ],
   "source": [
    "df = dfs[-1].loc[:, ['Code', 'Institute']]\n",
    "df"
   ]
  },
  {
   "cell_type": "markdown",
   "id": "86a0064f",
   "metadata": {},
   "source": [
    "<h4>Populating</h4>"
   ]
  },
  {
   "cell_type": "code",
   "execution_count": 130,
   "id": "e6704b35",
   "metadata": {},
   "outputs": [],
   "source": [
    "with Session(engine) as session, session.begin():\n",
    "    \n",
    "    for row in divs[0].find_all(\"li\"):\n",
    "        abb, details = map(str.strip, row.text.split('-', 1))\n",
    "        session.execute(agencies_tbl.insert().values(abbreviation=abb, details=details))\n",
    "    \n",
    "    for index, row in df.iterrows():\n",
    "        abb, details = map(str.strip, [row['Code'], row['Institute']])\n",
    "        \n",
    "        insert_stmt = db.dialects.mysql.insert(agencies_tbl).values(abbreviation=abb, details=details)\n",
    "        session.execute(insert_stmt.on_duplicate_key_update(abbreviation=insert_stmt.inserted.abbreviation))\n",
    "    \n",
    "    #edge cases\n",
    "    edge_cases = ['usauto', 'tx', 'ew', 'cgs', 'aacse', 'ew_dm']\n",
    "    for edge_case in edge_cases:\n",
    "        session.execute(text(f\"INSERT INTO Agencies(abbreviation) VALUE ('{edge_case}')\"))\n",
    "    "
   ]
  },
  {
   "cell_type": "markdown",
   "id": "8798ad4b",
   "metadata": {},
   "source": [
    "<h4>Checking</h4>"
   ]
  },
  {
   "cell_type": "code",
   "execution_count": 131,
   "id": "fb46a94d",
   "metadata": {},
   "outputs": [
    {
     "name": "stdout",
     "output_type": "stream",
     "text": [
      "id|abb|full_name\n",
      "(1, 'AK', 'Alaska Earthquake Center')\n",
      "(2, 'AT', 'National Tsunami Warning Center')\n",
      "(3, 'ATLAS', 'ShakeMap Atlas')\n",
      "(4, 'AV', 'Alaska Volcano Observatory')\n",
      "(5, 'CHOY', 'Energy Magnitude and Broadband Depth')\n",
      "(6, 'CI', 'California Integrated Seismic Network: Southern California Seismic Network (Caltech/USGS Pasadena and Partners) and Southern California Earthquake Data Center')\n",
      "(7, 'DUPUTEL', 'Duputel et al. W phase catalog')\n",
      "(8, 'EQH', 'EQH - Coffman, von Hake and Stover, Earthquake History of the United States')\n",
      "(9, 'GCMT', 'Lamont-Doherty Earth Observatory Global CMT project, New York, USA')\n",
      "(10, 'HV', 'Hawaii Volcano Observatory')\n",
      "(11, 'ISCGEM', 'ISC-GEM Main Catalog')\n",
      "(12, 'ISCGEMSUP', 'ISC-GEM Supplementary Catalog')\n",
      "(13, 'ISMPKANSAS', 'USGS Induced Seismicity Project (Kansas)')\n",
      "(14, 'LD', 'Lamont-Doherty Cooperative Seismographic Network')\n",
      "(15, 'MB', 'Montana Bureau of Mines and Geology')\n",
      "(16, 'NC', 'California Integrated Seismic Network: Northern California Seismic System (UC Berkeley, USGS Menlo Park, and Partners)')\n",
      "(17, 'NE', 'New England Seismic Network')\n",
      "(18, 'NM', 'New Madrid Seismic Network')\n",
      "(19, 'NN', 'Nevada Seismological Laboratory')\n",
      "(20, 'OFFICIAL', 'USGS Earthquake Magnitude Working Group')\n",
      "(21, 'PAGS', 'PAGS - Pennsylvania Geological Survey')\n",
      "(22, 'PR', 'Puerto Rico Seismic Network')\n",
      "(23, 'PT', 'Pacific Tsunami Warning Center')\n",
      "(24, 'RDEMINERAL', 'Refined Determination of Epicenters (Mineral, VA)')\n",
      "(25, 'SE', 'Center for Earthquake Research and Information')\n",
      "(26, 'US', 'USGS National Earthquake Information Center, PDE')\n",
      "(27, 'USHIS', 'USHIS - Stover and Coffman, Seismicity of the United States, 1568-1989')\n",
      "(28, 'UU', 'University of Utah Seismograph Stations')\n",
      "(29, 'UW', 'Pacific Northwest Seismic Network')\n",
      ".................................\n"
     ]
    }
   ],
   "source": [
    "with engine.connect() as con:\n",
    "    print(\"id|abb|full_name\")\n",
    "    for row in con.execute(text(\"SELECT * FROM  Agencies\")):\n",
    "        print(row)"
   ]
  },
  {
   "cell_type": "markdown",
   "id": "d1df379e",
   "metadata": {},
   "source": [
    "<h2>Populate Status table</h2>"
   ]
  },
  {
   "cell_type": "code",
   "execution_count": 132,
   "id": "97dcbe92",
   "metadata": {},
   "outputs": [
    {
     "name": "stdout",
     "output_type": "stream",
     "text": [
      "<!DOCTYPE html>\n",
      "<html lang=\"en\">\n",
      " <head>\n",
      "  <title>\n",
      "   ANSS Comprehensive Earthquake Catalog (ComCat) Documentation\n",
      "  </title>\n",
      "  <meta charset=\"utf-8\"/>\n",
      ".................................\n",
        
      "     </dd>\n",
      "     <dt id=\"status\">\n",
      "      status\n",
      "     </dt>\n",
      "     <dd>\n",
      "      <dl>\n",
      "       <dt>\n",
      "        Data Type\n",
      "       </dt>\n",
      "       <dd class=\"datatype\">\n",
      "        String\n",
      "       </dd>\n",
      "       <dt>\n",
      "        Typical Values\n",
      "       </dt>\n",
      "       <dd>\n",
      "        “automatic”,\n",
      "        “reviewed”,\n",
      "        “deleted”\n",
      "       </dd>\n",
      "       <dt>\n",
      "        Description\n",
      "       </dt>\n",
      "       <dd>\n",
      "        Indicates whether the event has been reviewed by a human.\n",
      "       </dd>\n",
      "       <dt>\n",
      "        Additional Information\n",
      "       </dt>\n",
      "       <dd>\n",
      "        <p>\n",
      "         Status is either automatic or reviewed. Automatic events\n",
      "          are directly posted by automatic processing systems and have not\n",
      "          been verified or altered by a human. Reviewed events have been\n",
      "          looked at by a human. The level of review can range from a quick\n",
      "          validity check to a careful reanalysis of the event.\n",
      ".................................\n",
      "\n"
     ]
    }
   ],
   "source": [
    "url = \"https://earthquake.usgs.gov/data/comcat\"\n",
    "soup = BeautifulSoup(requests.get(url).content, 'html.parser')\n",
    "print(soup.prettify())"
   ]
  },
  {
   "cell_type": "code",
   "execution_count": 133,
   "id": "433be589",
   "metadata": {},
   "outputs": [
    {
     "data": {
      "text/plain": [
       "<dd>\n",
       "        “automatic”,\n",
       "        “reviewed”,\n",
       "        “deleted”\n",
       "      </dd>"
      ]
     },
     "execution_count": 133,
     "metadata": {},
     "output_type": "execute_result"
    }
   ],
   "source": [
    "el = soup.find(\"dt\", {\"id\": \"status\"})\n",
    "info = el.next_sibling.next_sibling.find_all(\"dd\")[1]\n",
    "info"
   ]
  },
  {
   "cell_type": "code",
   "execution_count": 134,
   "id": "89092c8b",
   "metadata": {},
   "outputs": [
    {
     "data": {
      "text/plain": [
       "['automatic', 'reviewed', 'deleted']"
      ]
     },
     "execution_count": 134,
     "metadata": {},
     "output_type": "execute_result"
    }
   ],
   "source": [
    "status_values = list(map(str.strip, info.text.replace('“', '').replace('”', '').split(\",\")))\n",
    "status_values"
   ]
  },
  {
   "cell_type": "markdown",
   "id": "04b226c9",
   "metadata": {},
   "source": [
    "<h4>Populating</h4>"
   ]
  },
  {
   "cell_type": "code",
   "execution_count": 135,
   "id": "f6f2aa34",
   "metadata": {},
   "outputs": [],
   "source": [
    "with Session(engine) as session, session.begin():\n",
    "    \n",
    "    session.execute(status_tbl.insert(), \n",
    "                    [{'name': name} for name in status_values])"
   ]
  },
  {
   "cell_type": "markdown",
   "id": "d5b3624d",
   "metadata": {},
   "source": [
    "<h4>Checking</h4>"
   ]
  },
  {
   "cell_type": "code",
   "execution_count": 136,
   "id": "274a94e3",
   "metadata": {},
   "outputs": [
    {
     "name": "stdout",
     "output_type": "stream",
     "text": [
      "id|name\n",
      "(1, 'automatic')\n",
      "(3, 'deleted')\n",
      "(2, 'reviewed')\n"
     ]
    }
   ],
   "source": [
    "with Session(engine) as session, session.begin():\n",
    "    print(\"id|name\")\n",
    "    for row in session.execute(status_tbl.select()):\n",
    "        print(row)"
   ]
  },
  {
   "cell_type": "markdown",
   "id": "b59f635e",
   "metadata": {},
   "source": [
    "<h2>Populate Alerts table</h2>"
   ]
  },
  {
   "cell_type": "code",
   "execution_count": 137,
   "id": "d541ce95",
   "metadata": {},
   "outputs": [
    {
     "data": {
      "text/plain": [
       "<dd>\n",
       "        “green”, “yellow”, “orange”,\n",
       "        “red”.\n",
       "      </dd>"
      ]
     },
     "execution_count": 137,
     "metadata": {},
     "output_type": "execute_result"
    }
   ],
   "source": [
    "url = \"https://earthquake.usgs.gov/data/comcat\"\n",
    "soup = BeautifulSoup(requests.get(url).content, 'html.parser')\n",
    "el = soup.find(\"dt\", {\"id\": \"alert\"})\n",
    "info = el.next_sibling.next_sibling.find_all(\"dd\")[1]\n",
    "info"
   ]
  },
  {
   "cell_type": "code",
   "execution_count": 138,
   "id": "a367dfaa",
   "metadata": {},
   "outputs": [
    {
     "data": {
      "text/plain": [
       "['green', 'yellow', 'orange', 'red']"
      ]
     },
     "execution_count": 138,
     "metadata": {},
     "output_type": "execute_result"
    }
   ],
   "source": [
    "alerts_values = list(map(str.strip, info.text.replace('.','').replace('“', '').replace('”', '').split(\",\")))\n",
    "alerts_values"
   ]
  },
  {
   "cell_type": "markdown",
   "id": "0d9dda9e",
   "metadata": {},
   "source": [
    "<h4>Populate</h4>"
   ]
  },
  {
   "cell_type": "code",
   "execution_count": 139,
   "id": "b843ba2d",
   "metadata": {},
   "outputs": [],
   "source": [
    "with Session(engine) as session, session.begin():\n",
    "    session.execute(alerts_tbl.insert(), [{'name': name} for name in alerts_values])"
   ]
  },
  {
   "cell_type": "markdown",
   "id": "ec9fb4a8",
   "metadata": {},
   "source": [
    "<h4>Check<h4>"
   ]
  },
  {
   "cell_type": "code",
   "execution_count": 140,
   "id": "e5a7bf60",
   "metadata": {},
   "outputs": [
    {
     "name": "stdout",
     "output_type": "stream",
     "text": [
      "id|name\n",
      "[(1, 'green'), (3, 'orange'), (4, 'red'), (2, 'yellow')]\n"
     ]
    }
   ],
   "source": [
    "with Session(engine) as session, session.begin():\n",
    "    print(\"id|name\")\n",
    "    print(list(session.execute(alerts_tbl.select())))"
   ]
  },
  {
   "cell_type": "code",
   "execution_count": null,
   "id": "226d3a46",
   "metadata": {},
   "outputs": [],
   "source": []
  }
 ],
 "metadata": {
  "kernelspec": {
   "display_name": "Python 3 (ipykernel)",
   "language": "python",
   "name": "python3"
  },
  "language_info": {
   "codemirror_mode": {
    "name": "ipython",
    "version": 3
   },
   "file_extension": ".py",
   "mimetype": "text/x-python",
   "name": "python",
   "nbconvert_exporter": "python",
   "pygments_lexer": "ipython3",
   "version": "3.9.5"
  }
 },
 "nbformat": 4,
 "nbformat_minor": 5
}
